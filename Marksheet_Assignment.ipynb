{
 "cells": [
  {
   "cell_type": "code",
   "execution_count": 5,
   "metadata": {},
   "outputs": [
    {
     "name": "stdout",
     "output_type": "stream",
     "text": [
      "Name: abc\n",
      "Father Name: xyz\n",
      "Roll No: 123\n",
      "Physics Marks: 45\n",
      "Maths Marks: 25\n",
      "Islamiat Marks: 41\n",
      "Urdu Marks: 63\n",
      "English Marks: 78\n",
      "--------MARKSHEET-------\n",
      "A Grade\n",
      "Name:  abc\n",
      "Father Name:  xyz\n",
      "Roll#  123\n",
      "Total marks 252 / 500\n",
      "Percentage:  50.4 %\n"
     ]
    }
   ],
   "source": [
    "Name=input(\"Name: \")\n",
    "Father_Name= input(\"Father Name: \")\n",
    "Roll_No= input(\"Roll No: \")\n",
    "Physics_Marks=int(input(\"Physics Marks: \"))\n",
    "Maths_Marks=int(input(\"Maths Marks: \"))\n",
    "Islamiat_Marks=int(input(\"Islamiat Marks: \"))\n",
    "Urdu_Marks=int(input(\"Urdu Marks: \"))\n",
    "English_Marks=int(input(\"English Marks: \"))\n",
    "Total_Marks=500\n",
    "Obtained_Marks=Physics_Marks+Maths_Marks+Islamiat_Marks+Urdu_Marks+English_Marks      \n",
    "Percentage=(Obtained_Marks/Total_Marks)*100\n",
    "Marksheet= \"--------MARKSHEET-------\"\n",
    "print(Marksheet)\n",
    "if Percentage>=80:\n",
    "    print(\"A-One Grade\")\n",
    "elif Percentage <80:\n",
    "    print(\"A Grade\")\n",
    "elif Percentage<70:\n",
    "    print(\"B Grade\")\n",
    "elif Percentage<60:\n",
    "    print(\"C Grade\")\n",
    "else:\n",
    "    print(\"Failed\")\n",
    "\n",
    "print(\"Name: \", Name)\n",
    "print(\"Father Name: \",Father_Name)\n",
    "print(\"Roll# \",Roll_No)\n",
    "print(\"Total marks\",Obtained_Marks,\"/\",Total_Marks)\n",
    "print(\"Percentage: \",Percentage,\"%\")"
   ]
  },
  {
   "cell_type": "code",
   "execution_count": null,
   "metadata": {},
   "outputs": [],
   "source": []
  }
 ],
 "metadata": {
  "kernelspec": {
   "display_name": "Python 3",
   "language": "python",
   "name": "python3"
  },
  "language_info": {
   "codemirror_mode": {
    "name": "ipython",
    "version": 3
   },
   "file_extension": ".py",
   "mimetype": "text/x-python",
   "name": "python",
   "nbconvert_exporter": "python",
   "pygments_lexer": "ipython3",
   "version": "3.7.3"
  }
 },
 "nbformat": 4,
 "nbformat_minor": 2
}
