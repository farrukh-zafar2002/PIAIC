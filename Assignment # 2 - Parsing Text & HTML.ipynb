{
 "cells": [
  {
   "cell_type": "code",
   "execution_count": 5,
   "metadata": {},
   "outputs": [
    {
     "name": "stdout",
     "output_type": "stream",
     "text": [
      "Enter the name of the file:d:\\farrukh\\sample_text_file.txt\n",
      "The file  d:\\farrukh\\sample_text_file.txt  has about  38128  words.\n",
      "Total Characters:  137184\n",
      "Lowercase =  133676\n",
      "Uppercase =  95945\n",
      "Lines =  4821\n",
      "Spaces =  54320\n",
      "Paragraph =  0\n",
      "Tabs =  34\n",
      "Special Characters:  -146791\n"
     ]
    }
   ],
   "source": [
    "Total_chracters = 0\n",
    "lower = 0\n",
    "upper = 0\n",
    "lines = 0\n",
    "space = 0\n",
    "para = 0\n",
    "tabs = 0\n",
    "Sp_chracters = 0\n",
    "\n",
    "try:     \n",
    "    with open(input(\"Enter the name of the file:\"),encoding='utf8') as f_obj:\n",
    "        contents = f_obj.read()\n",
    "except FileNotFoundError:\n",
    "    msg = \"Sorry, the file \" , f_obj , \" does not exist.\"\n",
    "    print(msg)\n",
    "else:\n",
    "    words = contents.split()\n",
    "    num_words = len(words)\n",
    "    print(\"The file \" , f_obj.name , \" has about \" , str(num_words) , \" words.\")\n",
    "    Total_chracters = len(contents)    \n",
    "    for val in contents:\n",
    "        if val == val.lower():\n",
    "            lower +=1\n",
    "        if val == val.upper():\n",
    "            upper +=1\n",
    "        if len(val) > 2 and empty is True:\n",
    "            para += val.count()\n",
    "        \n",
    "        space += val.count(\" \")\n",
    "        para += val.count('  ')\n",
    "        lines += val.count('\\n')\n",
    "        tabs += val.count('\\t')\n",
    "        Sp_chracters = Total_chracters - lower - upper - space -  tabs  \n",
    "        \n",
    "print(\"Total Characters: \",Total_chracters)        \n",
    "print(\"Lowercase = \",lower)\n",
    "print(\"Uppercase = \",upper)\n",
    "print(\"Lines = \",lines)\n",
    "print(\"Spaces = \",space)\n",
    "print(\"Paragraph = \",para)\n",
    "print(\"Tabs = \",tabs)\n",
    "print(\"Special Characters: \",Sp_chracters)"
   ]
  },
  {
   "cell_type": "code",
   "execution_count": 7,
   "metadata": {},
   "outputs": [
    {
     "name": "stdout",
     "output_type": "stream",
     "text": [
      "Enter the name of the file:d:\\farrukh\\example_html_file.html\n"
     ]
    },
    {
     "ename": "TypeError",
     "evalue": "open() argument 2 must be str, not int",
     "output_type": "error",
     "traceback": [
      "\u001b[1;31m---------------------------------------------------------------------------\u001b[0m",
      "\u001b[1;31mTypeError\u001b[0m                                 Traceback (most recent call last)",
      "\u001b[1;32m<ipython-input-7-c6f99067f19c>\u001b[0m in \u001b[0;36m<module>\u001b[1;34m\u001b[0m\n\u001b[0;32m      3\u001b[0m \u001b[1;33m\u001b[0m\u001b[0m\n\u001b[0;32m      4\u001b[0m \u001b[1;32mtry\u001b[0m\u001b[1;33m:\u001b[0m\u001b[1;33m\u001b[0m\u001b[1;33m\u001b[0m\u001b[0m\n\u001b[1;32m----> 5\u001b[1;33m     \u001b[1;32mwith\u001b[0m \u001b[0mopen\u001b[0m\u001b[1;33m(\u001b[0m\u001b[0minput\u001b[0m\u001b[1;33m(\u001b[0m\u001b[1;34m\"Enter the name of the file:\"\u001b[0m\u001b[1;33m)\u001b[0m\u001b[1;33m,\u001b[0m\u001b[0mr\u001b[0m\u001b[1;33m,\u001b[0m\u001b[0mencoding\u001b[0m\u001b[1;33m=\u001b[0m\u001b[1;34m'utf8'\u001b[0m\u001b[1;33m)\u001b[0m \u001b[1;32mas\u001b[0m \u001b[0mf_obj\u001b[0m\u001b[1;33m:\u001b[0m\u001b[1;33m\u001b[0m\u001b[1;33m\u001b[0m\u001b[0m\n\u001b[0m\u001b[0;32m      6\u001b[0m         \u001b[0mcontents\u001b[0m \u001b[1;33m=\u001b[0m \u001b[0mf_obj\u001b[0m\u001b[1;33m.\u001b[0m\u001b[0mread\u001b[0m\u001b[1;33m(\u001b[0m\u001b[1;33m)\u001b[0m\u001b[1;33m\u001b[0m\u001b[1;33m\u001b[0m\u001b[0m\n\u001b[0;32m      7\u001b[0m \u001b[1;32mexcept\u001b[0m \u001b[0mFileNotFoundError\u001b[0m\u001b[1;33m:\u001b[0m\u001b[1;33m\u001b[0m\u001b[1;33m\u001b[0m\u001b[0m\n",
      "\u001b[1;31mTypeError\u001b[0m: open() argument 2 must be str, not int"
     ]
    }
   ],
   "source": [
    "from collections import Counter\n",
    "d = {}\n",
    "\n",
    "try:     \n",
    "    with open(input(\"Enter the name of the file:\"),encoding='utf8') as f_obj:\n",
    "        contents = f_obj.read()\n",
    "except FileNotFoundError:\n",
    "    msg = \"Sorry, the file \" , f_obj , \" does not exist.\"\n",
    "    print(msg)\n",
    "else:\n",
    "    \n",
    "    for line in f_obj:\n",
    "        (key, val) = contents.split(\":\")\n",
    "sder         d[int(key)] = valnum_words = len(words)\n",
    "'''    print(\"The file \" , f_obj.name , \" has about \" , str(num_words) , \" words.\")\n",
    "        \n",
    "    for val in contents:\n",
    "        if val == val.lower():\n",
    "            lower +=1\n",
    "        if val == val.upper():\n",
    "            upper +=1\n",
    "printtags\n",
    "\n",
    "\n",
    "with open(\"file.txt\") as f:\n",
    "    \n",
    "'''\n",
    "print(contents)"
   ]
  },
  {
   "cell_type": "code",
   "execution_count": null,
   "metadata": {},
   "outputs": [],
   "source": []
  },
  {
   "cell_type": "code",
   "execution_count": null,
   "metadata": {},
   "outputs": [],
   "source": []
  }
 ],
 "metadata": {
  "kernelspec": {
   "display_name": "Python 3",
   "language": "python",
   "name": "python3"
  },
  "language_info": {
   "codemirror_mode": {
    "name": "ipython",
    "version": 3
   },
   "file_extension": ".py",
   "mimetype": "text/x-python",
   "name": "python",
   "nbconvert_exporter": "python",
   "pygments_lexer": "ipython3",
   "version": "3.7.3"
  }
 },
 "nbformat": 4,
 "nbformat_minor": 2
}
